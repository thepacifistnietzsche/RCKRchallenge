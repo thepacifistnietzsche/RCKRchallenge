{
  "nbformat": 4,
  "nbformat_minor": 0,
  "metadata": {
    "colab": {
      "name": "Untitled2.ipynb",
      "provenance": [],
      "authorship_tag": "ABX9TyORLHamKkGDQ7NDTD72owp/",
      "include_colab_link": true
    },
    "kernelspec": {
      "name": "python3",
      "display_name": "Python 3"
    },
    "language_info": {
      "name": "python"
    },
    "gpuClass": "standard"
  },
  "cells": [
    {
      "cell_type": "markdown",
      "metadata": {
        "id": "view-in-github",
        "colab_type": "text"
      },
      "source": [
        "<a href=\"https://colab.research.google.com/github/thepacifistnietzsche/RCKRchallenge/blob/main/Untitled2.ipynb\" target=\"_parent\"><img src=\"https://colab.research.google.com/assets/colab-badge.svg\" alt=\"Open In Colab\"/></a>"
      ]
    },
    {
      "cell_type": "code",
      "execution_count": 26,
      "metadata": {
        "id": "tHAy0Hfdhglu"
      },
      "outputs": [],
      "source": [
        "from math import radians, cos, sin, asin, sqrt\n",
        "import requests\n",
        "r = requests.get('https://cdn.jsdelivr.net/gh/apilayer/restcountries@3dc0fb110cd97bce9ddf27b3e8e1f7fbe115dc3c/src/main/resources/countriesV2.json')"
      ]
    },
    {
      "cell_type": "code",
      "source": [
        "currencieslist=[]\n",
        "Currencies_splitlist=[]\n",
        "currenciescodelist=[]\n",
        "Repeating_currencies=[]\n",
        "for i in range(len(r.json())):\n",
        "  for n in range(len(r.json()[i]['currencies'])):\n",
        "    currencieslist.append(r.json()[i]['currencies'][n])\n"
      ],
      "metadata": {
        "id": "RfekkS8OoZ2r"
      },
      "execution_count": 27,
      "outputs": []
    },
    {
      "cell_type": "code",
      "source": [
        "for i in range(len(currencieslist)):\n",
        "  if currencieslist[i] not in Currencies_splitlist:\n",
        "    Currencies_splitlist.append(currencieslist[i])\n",
        "  else:\n",
        "    Currencies_splitlist.remove(currencieslist[i])\n"
      ],
      "metadata": {
        "id": "oqBAbdrh7w1r"
      },
      "execution_count": 64,
      "outputs": []
    },
    {
      "cell_type": "code",
      "source": [
        "for i in range(len(currencieslist)):\n",
        "  t=(currencieslist[i]['code'])\n",
        "  currenciescodelist.append(t)\n",
        "\n"
      ],
      "metadata": {
        "id": "ZfmIl3AHYQ4V"
      },
      "execution_count": 65,
      "outputs": []
    },
    {
      "cell_type": "code",
      "source": [
        "dict_of_counts = {item:q.count(item) for item in currenciescodelist}\n",
        "\n",
        "\n",
        "\n",
        "   \n",
        "# Driver Code \n"
      ],
      "metadata": {
        "id": "JSXpFQKrZ2oA"
      },
      "execution_count": 66,
      "outputs": []
    },
    {
      "cell_type": "code",
      "source": [
        "m=[]\n",
        "for i in range(len(currencieslist)):\n",
        "  t=(currencieslist[i]['name'])\n",
        "  m.append(t)\n"
      ],
      "metadata": {
        "id": "mV5BXrP7oYd3"
      },
      "execution_count": 67,
      "outputs": []
    },
    {
      "cell_type": "code",
      "source": [
        "dict_of_counts2 = {item:m.count(item) for item in m}\n"
      ],
      "metadata": {
        "id": "iexzzGXWocof"
      },
      "execution_count": 68,
      "outputs": []
    },
    {
      "cell_type": "code",
      "source": [
        "for x in dict_of_counts:\n",
        "        if dict_of_counts[x]!=1 :\n",
        "          Repeating_currencies.append(x);\n"
      ],
      "metadata": {
        "id": "DHtGGqe8cQiH"
      },
      "execution_count": 69,
      "outputs": []
    },
    {
      "cell_type": "code",
      "source": [
        "Currenciesnamelist=[]\n",
        "for x in dict_of_counts2:\n",
        "        if dict_of_counts2[x]!=1 :\n",
        "          Currenciesnamelist.append(x);\n"
      ],
      "metadata": {
        "colab": {
          "base_uri": "https://localhost:8080/"
        },
        "id": "ELq7F741ouhd",
        "outputId": "5c3ceeaa-4e7e-4637-ab5c-25a8ce91c0be"
      },
      "execution_count": 70,
      "outputs": [
        {
          "output_type": "stream",
          "name": "stdout",
          "text": [
            "['Euro', 'Algerian dinar', 'East Caribbean dollar', 'Australian dollar', 'British pound', 'West African CFA franc', 'Indian rupee', 'United States dollar', 'Botswana pula', 'Norwegian krone', '[D]', 'Brunei dollar', 'Singapore dollar', 'Central African CFA franc', 'Chinese yuan', 'New Zealand dollar', 'Netherlands Antillean guilder', 'Danish krone', 'CFP franc', 'Japanese yen', 'South African rand', 'Swiss franc', 'Moroccan dirham', None]\n"
          ]
        }
      ]
    },
    {
      "cell_type": "code",
      "source": [
        "newlist=[]"
      ],
      "metadata": {
        "id": "hl6qJLXdqD50"
      },
      "execution_count": 71,
      "outputs": []
    },
    {
      "cell_type": "code",
      "source": [
        "for i in range(len(currencieslist)):\n",
        "  if (currencieslist[i]['code']) in h:\n",
        "    newlist.append((currencieslist[i]['code']))\n"
      ],
      "metadata": {
        "id": "8qvUkl4a2K-y"
      },
      "execution_count": 72,
      "outputs": []
    },
    {
      "cell_type": "code",
      "source": [
        "pop_limit =65847\n",
        "top_20 = []\n",
        "#q=['AX','AS','AD','AI','AQ','AG','BQ','IO','UM','VI','CX','CC','DZ','AT','AU','AT','BE', 'BJ', 'BN','BW','BF','CM','CF','TD','CN','CD', 'CG','CY','DK','EC', 'SV','GQ', 'EE', 'FI', 'FR', 'GA', 'GP','DE', 'GR', 'GW', 'IN','CI', 'IE','IL','IS','IT', 'JP', 'LV', 'LT', 'ML', 'MT','MQ', 'ME','MA','NL','NE', 'NO', 'PS', 'PT', 'PR', 'XK','RE','SN', 'SG', 'SK','SI','ZA', 'ES','TL','TG', 'GB','US', 'EH', 'ZW','GF','GL','GD','GU']   \n",
        "for i in range(len(r.json())):\n",
        "  for n in range(len(r.json()[i]['currencies'])):\n",
        "  \n",
        "    if  (r.json()[i]['population'] >= pop_limit):\n",
        "      if (r.json()[i]['currencies'][n]['code']) not in newlist or (r.json()[i]['currencies'][n]['name']) not in Currenciesnamelist:\n",
        "        top_20.append(r.json()[i])\n"
      ],
      "metadata": {
        "id": "HSpYYgd_4mZL"
      },
      "execution_count": 73,
      "outputs": []
    },
    {
      "cell_type": "code",
      "source": [
        "\n",
        "top_20 = sorted(top_20, key=lambda x: x['population'], reverse=False)\n",
        "\n",
        "\n",
        "\n",
        "top_20 = top_20[:20]\n",
        "for i in range(len(top_20)):\n",
        "    \n",
        "    print((top_20)[i]['name'])"
      ],
      "metadata": {
        "colab": {
          "base_uri": "https://localhost:8080/"
        },
        "id": "GxYh7-nOhvg1",
        "outputId": "480ff3b9-59c3-423f-ad82-b06cae434c44"
      },
      "execution_count": 74,
      "outputs": [
        {
          "output_type": "stream",
          "name": "stdout",
          "text": [
            "Isle of Man\n",
            "Seychelles\n",
            "Jersey\n",
            "Tonga\n",
            "Aruba\n",
            "Kiribati\n",
            "Sao Tome and Principe\n",
            "Samoa\n",
            "Vanuatu\n",
            "Barbados\n",
            "Iceland\n",
            "Maldives\n",
            "Belize\n",
            "Bahamas\n",
            "Cabo Verde\n",
            "Suriname\n",
            "Solomon Islands\n",
            "Macao\n",
            "Guyana\n",
            "Bhutan\n"
          ]
        }
      ]
    },
    {
      "cell_type": "code",
      "source": [
        "def distance(lat1, lat2, lon1, lon2):\n",
        "\t\n",
        "\tlon1 = radians(lon1)\n",
        "\tlon2 = radians(lon2)\n",
        "\tlat1 = radians(lat1)\n",
        "\tlat2 = radians(lat2)\n",
        "\t\n",
        "\t\n",
        "\t\n",
        "\t# Haversine formula\n",
        "\tdlon = lon2 - lon1\n",
        "\tdlat = lat2 - lat1\n",
        "\ta = sin(dlat / 2)**2 + cos(lat1) * cos(lat2) * sin(dlon / 2)**2\n",
        "\tc = 2 * asin(sqrt(a))\n",
        "\tr = 6371\n",
        "\n",
        "\treturn(c * r)"
      ],
      "metadata": {
        "id": "p0nLoMylhzn0"
      },
      "execution_count": 75,
      "outputs": []
    },
    {
      "cell_type": "code",
      "source": [
        "distance_sum = 0.0\n",
        "while top_20:\n",
        "    country = top_20.pop(0)\n",
        "    for i in top_20:\n",
        "        \n",
        "        lat1=country['latlng'][0]\n",
        "        lat2=i['latlng'][0]\n",
        "        lon1=country['latlng'][1]\n",
        "        lon2=i['latlng'][1]\n",
        "        \n",
        "   \n",
        "            \n",
        "        distance_sum = round(distance_sum + distance(lat1, lat2, lon1, lon2),2)\n",
        "       \n",
        "   \n",
        "\n",
        "\n",
        "print (round(distance_sum, 2))"
      ],
      "metadata": {
        "colab": {
          "base_uri": "https://localhost:8080/"
        },
        "id": "nEOxEkjOh0d0",
        "outputId": "a5f879ee-e9b7-422a-e7eb-09a2b2fd251c"
      },
      "execution_count": 76,
      "outputs": [
        {
          "output_type": "stream",
          "name": "stdout",
          "text": [
            "1875107.82\n"
          ]
        }
      ]
    }
  ]
}